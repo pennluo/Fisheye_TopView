{
 "cells": [
  {
   "cell_type": "code",
   "execution_count": 1,
   "metadata": {},
   "outputs": [],
   "source": [
    "import matplotlib.image as mpimg\n",
    "from PIL import Image\n",
    "import numpy as np\n",
    "import imageio"
   ]
  },
  {
   "cell_type": "code",
   "execution_count": 2,
   "metadata": {
    "collapsed": true
   },
   "outputs": [],
   "source": [
    "frame_f = imageio.imread(\"front_undistort.jpg\")\n",
    "frame_b = imageio.imread(\"back_undistort.jpg\")\n",
    "frame_l = imageio.imread(\"left_undistort.jpg\")\n",
    "frame_r = imageio.imread(\"right_undistort.jpg\")\n",
    "im = Image.fromarray(frame_r)"
   ]
  },
  {
   "cell_type": "code",
   "execution_count": 3,
   "metadata": {
    "collapsed": true
   },
   "outputs": [],
   "source": [
    "####forward\n",
    "H_f = np.array([ [7.16484249e-001, -1.21329653e+000, 3.95333954e+002 ],\n",
    "    [6.18596748e-002, -1.09690875e-001, 1.50242676e+002 ],\n",
    "              [2.14985557e-005, -1.84673560e-003, 1]])\n",
    "####back\n",
    "H_b = np.array([ [ 5.67742646e-001, -9.36438203e-001, 4.62838440e+002 ],\n",
    "    [4.23971266e-002, -4.45890613e-002, -9.08954544e+001  ],\n",
    "              [5.94135827e-006, -1.42084842e-003, 1]])\n",
    "\n",
    "#####left\n",
    "H_l= np.array([ [ -1.82098770e+000, -1.05679226e+000, 1.32148901e+003 ],\n",
    "    [-9.12221596e-002, -6.53561205e-002, 2.80831299e+002 ],\n",
    "              [-2.73178820e-003, 3.40395927e-005, 1]])\n",
    "####right \n",
    "H_r = np.array([ [-1.94364822e+000, -1.13981271e+000, 1.39862231e+003 ],\n",
    "    [-1.12904012e-001, -7.77252018e-002, -1.34969070e+002 ],\n",
    "              [-2.94386805e-003, 3.57765421e-005, 1]])"
   ]
  },
  {
   "cell_type": "code",
   "execution_count": 4,
   "metadata": {
    "collapsed": true
   },
   "outputs": [],
   "source": [
    "f_l_max_v = 465\n",
    "f_l_max_u = 265\n",
    "f_l_min_v = 0\n",
    "f_l_min_u = 0\n",
    "b_l_max_v = 1280\n",
    "b_l_max_u = 265\n",
    "b_l_min_v = 815\n",
    "b_l_min_u = 0\n",
    "f_r_max_v = 465\n",
    "f_r_max_u = 720\n",
    "f_r_min_v = 0\n",
    "f_r_min_u = 455\n",
    "b_r_max_v = 1280\n",
    "b_r_max_u = 720\n",
    "b_r_min_v = 815\n",
    "b_r_min_u = 455\n",
    "f_min_v = 0\n",
    "f_max_v = 465\n",
    "f_min_u = 0\n",
    "f_max_u = 720\n",
    "b_min_v = 815\n",
    "b_max_v = 1280\n",
    "b_min_u = 0\n",
    "b_max_u = 720\n",
    "l_min_v = 0\n",
    "l_max_v = 1280\n",
    "l_min_u = 0\n",
    "l_max_u = 265\n",
    "r_min_v = 0\n",
    "r_max_v = 1280\n",
    "r_min_u = 455\n",
    "r_max_u = 720"
   ]
  },
  {
   "cell_type": "code",
   "execution_count": 5,
   "metadata": {
    "collapsed": true
   },
   "outputs": [],
   "source": [
    "def get_cross_trans_fb_four(frame,H, min_u, max_u, min_v, max_v, cross_min_u1, \n",
    "                       cross_max_u1, center0, center1, center2, num):\n",
    "    weights = []\n",
    "    out_put_pxiels = []\n",
    "    in_put_pxiels = []\n",
    "    for u in range(min_u,max_u):\n",
    "        for v in range(min_v, max_v):\n",
    "            if  u <= cross_min_u1  :\n",
    "                rate = get_rate(center0, center1, u, v)[0]\n",
    "#                 rate = get_rate_1(center1, u, v)[0]\n",
    "            elif  u >= cross_max_u1  :\n",
    "                rate = get_rate(center0, center2, u, v)[0]\n",
    "#                 rate = get_rate_1(center2, u, v)[0]\n",
    "            else:\n",
    "                rate = 1\n",
    "            out_put = np.array([u,v,1])\n",
    "            in_put = np.dot(H,out_put)\n",
    "            frame_x, frame_y = in_put[1] / in_put[2], in_put[0] / in_put[2]\n",
    "            if 0 <= round(frame_x) < frame.shape[0] and 0 <= round(frame_y) < frame.shape[1]:\n",
    "                weight = get_cross_weight_four(frame, frame_x, frame_y, rate,num)\n",
    "            else:\n",
    "                weight = (num,0,0,0,0)\n",
    "            weights.append(weight)\n",
    "            out_put_pxiel = (v,u)\n",
    "            out_put_pxiels.append(out_put_pxiel)\n",
    "            in_put_pxiel = (frame_x, frame_y)\n",
    "            in_put_pxiels.append(in_put_pxiel)\n",
    "    return weights, out_put_pxiels, in_put_pxiels"
   ]
  },
  {
   "cell_type": "code",
   "execution_count": 6,
   "metadata": {
    "collapsed": true
   },
   "outputs": [],
   "source": [
    "def get_gray_level_four( x, y, weight):\n",
    "    z = np.array([0,0,0,0])\n",
    "    w = np.array([weight[1],weight[2],weight[3],weight[4]])\n",
    "    gray_levels = []\n",
    "    if (w==z).all():\n",
    "        gray_levels = [0,0,0]\n",
    "    else:\n",
    "        if weight[0] == 0:\n",
    "            frame = frame_f\n",
    "        if weight[0] == 1:\n",
    "            frame = frame_l\n",
    "        if weight[0] == 2:\n",
    "            frame = frame_b\n",
    "        if weight[0] == 3:\n",
    "            frame = frame_r\n",
    "        w = w.reshape(2,2)\n",
    "        for i in range(0,3):\n",
    "            f = frame[int(x):int(x)+2, int(y):int(y)+2,i]\n",
    "            gray_level = np.sum(np.multiply(w,f))\n",
    "            gray_levels.append(gray_level)\n",
    "    return np.array(gray_levels)"
   ]
  },
  {
   "cell_type": "code",
   "execution_count": 21,
   "metadata": {
    "collapsed": true
   },
   "outputs": [],
   "source": [
    "def get_cross_weight_four(frame, in_x, in_y, rate,num):\n",
    "    intSx, intSy = int(in_x), int(in_y)\n",
    "    frame_width, frame_height = frame.shape[0], frame.shape[1]\n",
    "    if 0 <= intSx  < frame_width - 2 and 0 <= intSy < frame_height - 2:\n",
    "        x1, x2 = intSx, intSx + 1\n",
    "        y1, y2 = intSy, intSy + 1\n",
    "        a11 = (x2- in_x)*(y2 - in_y)*rate\n",
    "        a12 = (x2 - in_x)*(in_y - y1)*rate\n",
    "        a21 = (in_x - x1)*(y2 - in_y)*rate\n",
    "        a22 = (in_x - x1)*(in_y - y1)*rate\n",
    "        weight = (num,a11,a12,a21,a22)\n",
    "    else:\n",
    "        weight = (num,1,0,0,0)\n",
    "    return weight"
   ]
  },
  {
   "cell_type": "code",
   "execution_count": 22,
   "metadata": {
    "collapsed": true
   },
   "outputs": [],
   "source": [
    "def remap_four(weights, out_put_pxiels, in_put_pxiels):\n",
    "    out_put_img = np.zeros(( 1280,720, frame_f.shape[2]), dtype=frame_f.dtype)\n",
    "    for weight, out_put, in_put in zip(weights, out_put_pxiels, in_put_pxiels):\n",
    "        out_x, out_y = out_put[0], out_put[1]\n",
    "#         print (in_put)\n",
    "        in_x, in_y = in_put[0], in_put[1]\n",
    "        \n",
    "        out_put_img[out_x, out_y] = out_put_img[out_x, out_y] + get_gray_level_four( in_x, in_y, weight)\n",
    "    return out_put_img  "
   ]
  },
  {
   "cell_type": "code",
   "execution_count": 23,
   "metadata": {
    "collapsed": true
   },
   "outputs": [],
   "source": [
    "def get_rate(center1, center2, x, y):\n",
    "    dis1 = np.sqrt(pow(center1[0]-x,2)+pow(center1[1]-y,2))\n",
    "    dis2 = np.sqrt(pow(center2[0]-x,2)+pow(center2[1]-y,2))\n",
    "    rate1 = dis1 / (dis1 + dis2)\n",
    "    rate2 = dis2 / (dis1 + dis2)\n",
    "    cross_weight = (rate1, rate2)\n",
    "    return cross_weight"
   ]
  },
  {
   "cell_type": "code",
   "execution_count": 24,
   "metadata": {
    "collapsed": true
   },
   "outputs": [],
   "source": [
    "def get_rate_1(center1, x, y):\n",
    "    rate1 = abs(center1[0] - x) / center1[1]\n",
    "    rate2 =  1 - rate1\n",
    "    cross_weight = (rate1, rate2)\n",
    "    return cross_weight"
   ]
  },
  {
   "cell_type": "code",
   "execution_count": 25,
   "metadata": {
    "collapsed": true
   },
   "outputs": [],
   "source": [
    "centerf = [360, 465]\n",
    "centerb = [360, 815]\n",
    "centerl = [265, 640]\n",
    "centerr = [455, 640]\n",
    "center1 = [265, 265]\n",
    "center2 = [455, 265]"
   ]
  },
  {
   "cell_type": "code",
   "execution_count": 26,
   "metadata": {
    "collapsed": true
   },
   "outputs": [],
   "source": [
    "def get_cross_trans_rl_four(frame,H, min_u, max_u, min_v, max_v, cross_min_v1, \n",
    "                       cross_max_v1, center0, center1, center2, num):\n",
    "    weights = []\n",
    "    out_put_pxiels = []\n",
    "    in_put_pxiels = []\n",
    "    for u in range(min_u,max_u):\n",
    "        for v in range(min_v, max_v):\n",
    "            if  v <= cross_min_v1  :\n",
    "                rate = get_rate(center0, center1, u, v)[0]\n",
    "#                 rate = get_rate_1( center1, u, v)[1]\n",
    "            elif  v >= cross_max_v1  :\n",
    "                rate = get_rate(center0, center2, u, v)[0]\n",
    "#                 rate = get_rate_1( center2, u, v)[1]\n",
    "            else:\n",
    "                rate = 1.1\n",
    "            out_put = np.array([u,v,1])\n",
    "            in_put = np.dot(H,out_put)\n",
    "            frame_x, frame_y = in_put[1] / in_put[2], in_put[0] / in_put[2]\n",
    "            if 0 <= round(frame_x) < frame.shape[0] and 0 <= round(frame_y) < frame.shape[1]:\n",
    "                weight = get_cross_weight_four(frame, frame_x, frame_y, rate,num)\n",
    "            else:\n",
    "                weight = (num,0,0,0,0)\n",
    "            weights.append(weight)\n",
    "            out_put_pxiel = (v,u)\n",
    "            out_put_pxiels.append(out_put_pxiel)\n",
    "            in_put_pxiel = (frame_x, frame_y)\n",
    "            in_put_pxiels.append(in_put_pxiel)\n",
    "    return weights, out_put_pxiels, in_put_pxiels"
   ]
  },
  {
   "cell_type": "code",
   "execution_count": 27,
   "metadata": {},
   "outputs": [],
   "source": [
    "weights_b1, out_put_pxiels_b1, in_put_pxiels_b1 = get_cross_trans_fb_four(frame_b,H_b, b_min_u, b_max_u,b_min_v, b_max_v, b_l_max_u, b_r_min_u, centerb, centerl, centerr,2)\n",
    "out_put_img_b1 = remap_four(weights_b1, out_put_pxiels_b1, in_put_pxiels_b1)\n",
    "bird = Image.fromarray(out_put_img_b1)\n",
    "bird.show()\n",
    "bird.save(\"birdb.jpg\") "
   ]
  },
  {
   "cell_type": "code",
   "execution_count": 28,
   "metadata": {
    "collapsed": true
   },
   "outputs": [],
   "source": [
    "weights_f1, out_put_pxiels_f1, in_put_pxiels_f1 = get_cross_trans_fb_four(frame_f,H_f, f_min_u, f_max_u,f_min_v, f_max_v, f_l_max_u, f_r_min_u, centerb, centerl, centerr,0)\n",
    "out_put_img_f1 = remap_four(weights_f1, out_put_pxiels_f1, in_put_pxiels_f1)\n",
    "bird = Image.fromarray(out_put_img_f1)\n",
    "bird.show()\n",
    "bird.save(\"birdf.jpg\") "
   ]
  },
  {
   "cell_type": "code",
   "execution_count": 29,
   "metadata": {
    "collapsed": true
   },
   "outputs": [],
   "source": [
    "weights_r1, out_put_pxiels_r1, in_put_pxiels_r1 = get_cross_trans_rl_four(frame_r,H_r, r_min_u, r_max_u, r_min_v, r_max_v, f_r_max_v, b_r_min_v, centerr, centerf, centerb,3)\n",
    "out_put_img_r1 = remap_four(weights_r1, out_put_pxiels_r1, in_put_pxiels_r1)\n",
    "bird = Image.fromarray(out_put_img_r1)\n",
    "bird.show()\n",
    "bird.save(\"birdr.jpg\") "
   ]
  },
  {
   "cell_type": "code",
   "execution_count": 30,
   "metadata": {
    "collapsed": true
   },
   "outputs": [],
   "source": [
    "weights_l1, out_put_pxiels_l1, in_put_pxiels_l1 = get_cross_trans_rl_four(frame_l,H_l, l_min_u, l_max_u, l_min_v, l_max_v, f_l_max_v, b_l_min_v, centerl, centerf, centerb,1)\n",
    "out_put_img_l1 = remap_four(weights_l1, out_put_pxiels_l1, in_put_pxiels_l1)\n",
    "bird = Image.fromarray(out_put_img_l1)\n",
    "bird.show()\n",
    "bird.save(\"birdl.jpg\") "
   ]
  },
  {
   "cell_type": "code",
   "execution_count": 31,
   "metadata": {
    "collapsed": true
   },
   "outputs": [],
   "source": [
    "weights = weights_f1 + weights_l1 + weights_b1 + weights_r1\n",
    "in_put_pxiels = in_put_pxiels_f1 + in_put_pxiels_l1 + in_put_pxiels_b1 + in_put_pxiels_r1\n",
    "out_put_pxiels = out_put_pxiels_f1 + out_put_pxiels_l1 + out_put_pxiels_b1 + out_put_pxiels_r1\n"
   ]
  },
  {
   "cell_type": "code",
   "execution_count": 32,
   "metadata": {
    "collapsed": true
   },
   "outputs": [],
   "source": [
    "out_put_img_1 = out_put_img_l1 + out_put_img_f1 + out_put_img_r1 + out_put_img_b1\n",
    "bird = Image.fromarray(out_put_img_1)\n",
    "bird.show()"
   ]
  },
  {
   "cell_type": "code",
   "execution_count": 33,
   "metadata": {
    "collapsed": true
   },
   "outputs": [],
   "source": [
    "bird.save(\"bird_overall.jpg\")"
   ]
  },
  {
   "cell_type": "code",
   "execution_count": 95,
   "metadata": {
    "collapsed": true
   },
   "outputs": [],
   "source": [
    "weight_dict= {}\n",
    "cor_dict = {}"
   ]
  },
  {
   "cell_type": "code",
   "execution_count": 96,
   "metadata": {},
   "outputs": [],
   "source": [
    "for out_put, in_put, weight in zip(out_put_pxiels, in_put_pxiels, weights):\n",
    "    if out_put not in weight_dict.keys():\n",
    "        weight_dict[out_put] = []\n",
    "        cor_dict[out_put] = []\n",
    "        weight_dict[out_put].append(weight)\n",
    "        cor_dict[out_put].append(in_put)\n",
    "\n",
    "    else:\n",
    "        weight_dict[out_put].append(weight)\n",
    "        cor_dict[out_put].append(in_put)\n",
    "#         print (out_put)\n",
    "        "
   ]
  },
  {
   "cell_type": "code",
   "execution_count": 119,
   "metadata": {},
   "outputs": [
    {
     "name": "stdout",
     "output_type": "stream",
     "text": [
      "(150.24267599999999, 395.33395400000001, 280.831299, 1321.48901)\n",
      "2\n"
     ]
    }
   ],
   "source": [
    "# print (len(weight_dict[0,0]))\n",
    "print (cor_dict[0,0][0] + cor_dict[0,0][1])\n",
    "print (len(cor_dict[(0,0)]))\n",
    "# for i in cor_dict.keys():\n",
    "#     print (len(cor_dict[i]))"
   ]
  },
  {
   "cell_type": "code",
   "execution_count": 132,
   "metadata": {},
   "outputs": [],
   "source": [
    "dt = np.dtype(( np.float64, (1,5)))\n",
    "dt1 = np.dtype((np.float64, (1,2)))\n",
    "weight_table1 = np.ndarray(shape = (1280,720), dtype = dt)\n",
    "cor_table1 = np.ndarray(shape = (1280,720),dtype = dt1)\n",
    "# for out_put, in_put, weight in zip(out_put_pxiels, in_put_pxiels, weights):\n",
    "#     weight_table[out_put[0],out_put[1]] = weight\n",
    "#     cor_table[out_put[0],out_put[1]] = in_put\n",
    "for out_put in cor_dict.keys():\n",
    " \n",
    "    if len(cor_dict[out_put] ) == 1:\n",
    "        weight_table1[out_put[0], out_put[1]] = weight_dict[out_put]\n",
    "        cor_table1[out_put[0], out_put[1]] = cor_dict[out_put]\n",
    "    else:\n",
    "        weight_table1[out_put[0], out_put[1]] = weight_dict[out_put][0] #+ weight_dict[out_put][1]\n",
    "        cor_table1[out_put[0], out_put[1]] = cor_dict[out_put][0] #+ cor_dict[out_put][1]\n",
    "    "
   ]
  },
  {
   "cell_type": "code",
   "execution_count": 88,
   "metadata": {},
   "outputs": [
    {
     "name": "stdout",
     "output_type": "stream",
     "text": [
      "[[[  2.80831299e+02   1.32148901e+03]\n",
      "  [  2.81509100e+02   1.32328295e+03]\n",
      "  [  2.82190625e+02   1.32508675e+03]\n",
      "  ..., \n",
      "  [  1.94391706e+02  -4.52533956e+00]\n",
      "  [  1.93979242e+02  -2.76815626e+00]\n",
      "  [  1.93568954e+02  -1.02023810e+00]]\n",
      "\n",
      " [[  2.80756386e+02   1.32038727e+03]\n",
      "  [  2.81433959e+02   1.32217813e+03]\n",
      "  [  2.82115254e+02   1.32397883e+03]\n",
      "  ..., \n",
      "  [  1.94467945e+02  -3.49929046e+00]\n",
      "  [  1.94055266e+02  -1.74476298e+00]\n",
      "  [  1.93644764e+02   5.13063993e-04]]\n",
      "\n",
      " [[  2.80681478e+02   1.31928561e+03]\n",
      "  [  2.81358823e+02   1.32107339e+03]\n",
      "  [  2.82039888e+02   1.32287100e+03]\n",
      "  ..., \n",
      "  [  1.94544189e+02  -2.47317526e+00]\n",
      "  [  1.94131295e+02  -7.21303949e-01]\n",
      "  [  1.93720579e+02   1.02132964e+00]]\n",
      "\n",
      " ..., \n",
      " [[  1.81521896e+02   9.00014803e+02]\n",
      "  [  1.81471162e+02   8.99324254e+02]\n",
      "  [  1.81420427e+02   8.98633695e+02]\n",
      "  ..., \n",
      "  [  2.95921669e+02   1.36189990e+03]\n",
      "  [  2.95211704e+02   1.35996583e+03]\n",
      "  [  2.94505642e+02   1.35804239e+03]]\n",
      "\n",
      " [[  1.81260417e+02   8.99595181e+02]\n",
      "  [  1.81209770e+02   8.98905831e+02]\n",
      "  [  1.81159121e+02   8.98216472e+02]\n",
      "  ..., \n",
      "  [  2.96004589e+02   1.36301586e+03]\n",
      "  [  2.95294371e+02   1.36107865e+03]\n",
      "  [  2.94588058e+02   1.35915209e+03]]\n",
      "\n",
      " [[  1.80999848e+02   8.99177018e+02]\n",
      "  [  1.80949286e+02   8.98488864e+02]\n",
      "  [  1.80898724e+02   8.97800700e+02]\n",
      "  ..., \n",
      "  [  2.96087514e+02   1.36413190e+03]\n",
      "  [  2.95377044e+02   1.36219155e+03]\n",
      "  [  2.94670481e+02   1.36026187e+03]]]\n"
     ]
    }
   ],
   "source": [
    "# print (weight_table)\n",
    "print (cor_table)"
   ]
  },
  {
   "cell_type": "code",
   "execution_count": 24,
   "metadata": {
    "collapsed": true
   },
   "outputs": [],
   "source": [
    "def remap(weights, out_put_pxiels, in_put_pxiels):\n",
    "    out_put_img = np.zeros(( 1280,720, frame_f.shape[2]), dtype=frame_f.dtype)\n",
    "    for weight, out_put, in_put in zip(weights, out_put_pxiels, in_put_pxiels):\n",
    "        out_x, out_y = out_put[0], out_put[1]\n",
    "#         print (in_put)\n",
    "        in_x, in_y = in_put[0], in_put[1]\n",
    "        if (out_put_img[out_x, out_y]==np.array([0,0,0])).all():\n",
    "            out_put_img[out_x, out_y] = get_gray_level_four( in_x, in_y, weight)\n",
    "        else:\n",
    "#             print (out_x, out_y)\n",
    "            out_put_img[out_x, out_y] = out_put_img[out_x, out_y] + get_gray_level_four( in_x, in_y, weight)\n",
    "#         out_put_img[out_x, out_y] = out_put_img[out_x, out_y] + get_gray_level_four( in_x, in_y, weight)\n",
    "    return out_put_img  "
   ]
  },
  {
   "cell_type": "code",
   "execution_count": 25,
   "metadata": {
    "collapsed": true
   },
   "outputs": [],
   "source": [
    "weights_b2, out_put_pxiels_b2, in_put_pxiels_b2 = get_cross_trans_fb_four(frame_b,H_b, b_min_u, b_max_u,b_min_v, b_max_v, b_l_max_u, b_r_min_u, centerb, center1, center2,2)\n",
    "out_put_img_b2 = remap_four(weights_b2, out_put_pxiels_b2, in_put_pxiels_b2)\n",
    "bird = Image.fromarray(out_put_img_b2)\n",
    "bird.show()\n"
   ]
  },
  {
   "cell_type": "code",
   "execution_count": 26,
   "metadata": {
    "collapsed": true
   },
   "outputs": [],
   "source": [
    "weights_f2, out_put_pxiels_f2, in_put_pxiels_f2 = get_cross_trans_fb_four(frame_f,H_f, f_min_u, f_max_u,f_min_v, f_max_v, f_l_max_u, f_r_min_u, centerb, center1, center2,0)\n",
    "out_put_img_f2 = remap_four(weights_f2, out_put_pxiels_f2, in_put_pxiels_f2)\n",
    "bird = Image.fromarray(out_put_img_f2)\n",
    "bird.show()\n"
   ]
  },
  {
   "cell_type": "code",
   "execution_count": 27,
   "metadata": {
    "collapsed": true
   },
   "outputs": [],
   "source": [
    "weights_r2, out_put_pxiels_r2, in_put_pxiels_r2 = get_cross_trans_rl_four(frame_r,H_r, r_min_u, r_max_u, r_min_v, r_max_v, f_r_max_v, b_r_min_v, centerr, center1, center2,3)\n",
    "out_put_img_r2 = remap_four(weights_r2, out_put_pxiels_r2, in_put_pxiels_r2)\n",
    "bird = Image.fromarray(out_put_img_r2)\n",
    "bird.show()"
   ]
  },
  {
   "cell_type": "code",
   "execution_count": 28,
   "metadata": {
    "collapsed": true
   },
   "outputs": [],
   "source": [
    "weights_l2, out_put_pxiels_l2, in_put_pxiels_l2 = get_cross_trans_rl_four(frame_l,H_l, l_min_u, l_max_u, l_min_v, l_max_v, f_l_max_v, b_l_min_v, centerl, center1, center2,1)\n",
    "out_put_img_l2 = remap_four(weights_l2, out_put_pxiels_l2, in_put_pxiels_l2)\n",
    "bird = Image.fromarray(out_put_img_l1)\n",
    "bird.show()"
   ]
  },
  {
   "cell_type": "code",
   "execution_count": 29,
   "metadata": {
    "collapsed": true
   },
   "outputs": [],
   "source": [
    "weights = weights_f2 + weights_l2 + weights_b2 + weights_r2\n",
    "in_put_pxiels = in_put_pxiels_f2 + in_put_pxiels_l2 + in_put_pxiels_b2 + in_put_pxiels_r2\n",
    "out_put_pxiels = out_put_pxiels_f2 + out_put_pxiels_l2 + out_put_pxiels_b2 + out_put_pxiels_r2\n"
   ]
  },
  {
   "cell_type": "code",
   "execution_count": 30,
   "metadata": {
    "collapsed": true
   },
   "outputs": [],
   "source": [
    "out_put_img_2 = out_put_img_l2 + out_put_img_f2+ out_put_img_r2 + out_put_img_b2\n",
    "bird = Image.fromarray(out_put_img_2)\n",
    "bird.show()"
   ]
  },
  {
   "cell_type": "code",
   "execution_count": 113,
   "metadata": {},
   "outputs": [
    {
     "ename": "KeyboardInterrupt",
     "evalue": "",
     "output_type": "error",
     "traceback": [
      "\u001b[1;31m---------------------------------------------------------------------------\u001b[0m",
      "\u001b[1;31mKeyboardInterrupt\u001b[0m                         Traceback (most recent call last)",
      "\u001b[1;32m<ipython-input-113-782f74fb686a>\u001b[0m in \u001b[0;36m<module>\u001b[1;34m()\u001b[0m\n\u001b[0;32m      1\u001b[0m \u001b[1;32mimport\u001b[0m \u001b[0mtime\u001b[0m\u001b[1;33m\u001b[0m\u001b[0m\n\u001b[0;32m      2\u001b[0m \u001b[0mstart\u001b[0m \u001b[1;33m=\u001b[0m \u001b[0mtime\u001b[0m\u001b[1;33m.\u001b[0m\u001b[0mtime\u001b[0m\u001b[1;33m(\u001b[0m\u001b[1;33m)\u001b[0m\u001b[1;33m\u001b[0m\u001b[0m\n\u001b[1;32m----> 3\u001b[1;33m \u001b[0mout_put_img\u001b[0m \u001b[1;33m=\u001b[0m \u001b[0mremap\u001b[0m\u001b[1;33m(\u001b[0m\u001b[0mweights\u001b[0m\u001b[1;33m,\u001b[0m \u001b[0mout_put_pxiels\u001b[0m\u001b[1;33m,\u001b[0m \u001b[0min_put_pxiels\u001b[0m\u001b[1;33m)\u001b[0m\u001b[1;33m\u001b[0m\u001b[0m\n\u001b[0m\u001b[0;32m      4\u001b[0m \u001b[0mend\u001b[0m \u001b[1;33m=\u001b[0m \u001b[0mtime\u001b[0m\u001b[1;33m.\u001b[0m\u001b[0mtime\u001b[0m\u001b[1;33m(\u001b[0m\u001b[1;33m)\u001b[0m\u001b[1;33m\u001b[0m\u001b[0m\n\u001b[0;32m      5\u001b[0m \u001b[0mprint\u001b[0m \u001b[1;33m(\u001b[0m\u001b[0mend\u001b[0m \u001b[1;33m-\u001b[0m \u001b[0mstart\u001b[0m\u001b[1;33m)\u001b[0m\u001b[1;33m\u001b[0m\u001b[0m\n",
      "\u001b[1;32m<ipython-input-24-36fcd51be787>\u001b[0m in \u001b[0;36mremap\u001b[1;34m(weights, out_put_pxiels, in_put_pxiels)\u001b[0m\n\u001b[0;32m      6\u001b[0m         \u001b[0min_x\u001b[0m\u001b[1;33m,\u001b[0m \u001b[0min_y\u001b[0m \u001b[1;33m=\u001b[0m \u001b[0min_put\u001b[0m\u001b[1;33m[\u001b[0m\u001b[1;36m0\u001b[0m\u001b[1;33m]\u001b[0m\u001b[1;33m,\u001b[0m \u001b[0min_put\u001b[0m\u001b[1;33m[\u001b[0m\u001b[1;36m1\u001b[0m\u001b[1;33m]\u001b[0m\u001b[1;33m\u001b[0m\u001b[0m\n\u001b[0;32m      7\u001b[0m         \u001b[1;32mif\u001b[0m \u001b[1;33m(\u001b[0m\u001b[0mout_put_img\u001b[0m\u001b[1;33m[\u001b[0m\u001b[0mout_x\u001b[0m\u001b[1;33m,\u001b[0m \u001b[0mout_y\u001b[0m\u001b[1;33m]\u001b[0m\u001b[1;33m==\u001b[0m\u001b[0mnp\u001b[0m\u001b[1;33m.\u001b[0m\u001b[0marray\u001b[0m\u001b[1;33m(\u001b[0m\u001b[1;33m[\u001b[0m\u001b[1;36m0\u001b[0m\u001b[1;33m,\u001b[0m\u001b[1;36m0\u001b[0m\u001b[1;33m,\u001b[0m\u001b[1;36m0\u001b[0m\u001b[1;33m]\u001b[0m\u001b[1;33m)\u001b[0m\u001b[1;33m)\u001b[0m\u001b[1;33m.\u001b[0m\u001b[0mall\u001b[0m\u001b[1;33m(\u001b[0m\u001b[1;33m)\u001b[0m\u001b[1;33m:\u001b[0m\u001b[1;33m\u001b[0m\u001b[0m\n\u001b[1;32m----> 8\u001b[1;33m             \u001b[0mout_put_img\u001b[0m\u001b[1;33m[\u001b[0m\u001b[0mout_x\u001b[0m\u001b[1;33m,\u001b[0m \u001b[0mout_y\u001b[0m\u001b[1;33m]\u001b[0m \u001b[1;33m=\u001b[0m \u001b[0mget_gray_level_four\u001b[0m\u001b[1;33m(\u001b[0m \u001b[0min_x\u001b[0m\u001b[1;33m,\u001b[0m \u001b[0min_y\u001b[0m\u001b[1;33m,\u001b[0m \u001b[0mweight\u001b[0m\u001b[1;33m)\u001b[0m\u001b[1;33m\u001b[0m\u001b[0m\n\u001b[0m\u001b[0;32m      9\u001b[0m         \u001b[1;32melse\u001b[0m\u001b[1;33m:\u001b[0m\u001b[1;33m\u001b[0m\u001b[0m\n\u001b[0;32m     10\u001b[0m \u001b[1;31m#             print (out_x, out_y)\u001b[0m\u001b[1;33m\u001b[0m\u001b[1;33m\u001b[0m\u001b[0m\n",
      "\u001b[1;32m<ipython-input-55-28e39a1f7d3a>\u001b[0m in \u001b[0;36mget_gray_level_four\u001b[1;34m(x, y, weight)\u001b[0m\n\u001b[0;32m      3\u001b[0m     \u001b[0mw\u001b[0m \u001b[1;33m=\u001b[0m \u001b[0mnp\u001b[0m\u001b[1;33m.\u001b[0m\u001b[0marray\u001b[0m\u001b[1;33m(\u001b[0m\u001b[1;33m[\u001b[0m\u001b[0mweight\u001b[0m\u001b[1;33m[\u001b[0m\u001b[1;36m1\u001b[0m\u001b[1;33m]\u001b[0m\u001b[1;33m,\u001b[0m\u001b[0mweight\u001b[0m\u001b[1;33m[\u001b[0m\u001b[1;36m2\u001b[0m\u001b[1;33m]\u001b[0m\u001b[1;33m,\u001b[0m\u001b[0mweight\u001b[0m\u001b[1;33m[\u001b[0m\u001b[1;36m3\u001b[0m\u001b[1;33m]\u001b[0m\u001b[1;33m,\u001b[0m\u001b[0mweight\u001b[0m\u001b[1;33m[\u001b[0m\u001b[1;36m4\u001b[0m\u001b[1;33m]\u001b[0m\u001b[1;33m]\u001b[0m\u001b[1;33m)\u001b[0m\u001b[1;33m\u001b[0m\u001b[0m\n\u001b[0;32m      4\u001b[0m     \u001b[0mgray_levels\u001b[0m \u001b[1;33m=\u001b[0m \u001b[1;33m[\u001b[0m\u001b[1;33m]\u001b[0m\u001b[1;33m\u001b[0m\u001b[0m\n\u001b[1;32m----> 5\u001b[1;33m     \u001b[1;32mif\u001b[0m \u001b[1;33m(\u001b[0m\u001b[0mw\u001b[0m\u001b[1;33m==\u001b[0m\u001b[0mz\u001b[0m\u001b[1;33m)\u001b[0m\u001b[1;33m.\u001b[0m\u001b[0mall\u001b[0m\u001b[1;33m(\u001b[0m\u001b[1;33m)\u001b[0m\u001b[1;33m:\u001b[0m\u001b[1;33m\u001b[0m\u001b[0m\n\u001b[0m\u001b[0;32m      6\u001b[0m         \u001b[0mgray_levels\u001b[0m \u001b[1;33m=\u001b[0m \u001b[1;33m[\u001b[0m\u001b[1;36m0\u001b[0m\u001b[1;33m,\u001b[0m\u001b[1;36m0\u001b[0m\u001b[1;33m,\u001b[0m\u001b[1;36m0\u001b[0m\u001b[1;33m]\u001b[0m\u001b[1;33m\u001b[0m\u001b[0m\n\u001b[0;32m      7\u001b[0m     \u001b[1;32melse\u001b[0m\u001b[1;33m:\u001b[0m\u001b[1;33m\u001b[0m\u001b[0m\n",
      "\u001b[1;31mKeyboardInterrupt\u001b[0m: "
     ]
    }
   ],
   "source": [
    "import time \n",
    "start = time.time()\n",
    "out_put_img = remap(weights, out_put_pxiels, in_put_pxiels)\n",
    "end = time.time()\n",
    "print (end - start)\n",
    "bird = Image.fromarray(out_put_img)\n",
    "bird.show()"
   ]
  },
  {
   "cell_type": "code",
   "execution_count": null,
   "metadata": {
    "collapsed": true
   },
   "outputs": [],
   "source": []
  }
 ],
 "metadata": {
  "kernelspec": {
   "display_name": "Python 3",
   "language": "python",
   "name": "python3"
  },
  "language_info": {
   "codemirror_mode": {
    "name": "ipython",
    "version": 3
   },
   "file_extension": ".py",
   "mimetype": "text/x-python",
   "name": "python",
   "nbconvert_exporter": "python",
   "pygments_lexer": "ipython3",
   "version": "3.6.3"
  }
 },
 "nbformat": 4,
 "nbformat_minor": 2
}
