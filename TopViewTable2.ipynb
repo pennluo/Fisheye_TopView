{
 "cells": [
  {
   "cell_type": "code",
   "execution_count": 1,
   "metadata": {
    "collapsed": true
   },
   "outputs": [],
   "source": [
    "import matplotlib.image as mpimg\n",
    "from PIL import Image\n",
    "import numpy as np\n",
    "import imageio"
   ]
  },
  {
   "cell_type": "code",
   "execution_count": 2,
   "metadata": {
    "collapsed": true
   },
   "outputs": [],
   "source": [
    "centerf = [360, 465]\n",
    "centerb = [360, 815]\n",
    "centerl = [265, 640]\n",
    "centerr = [455, 640]\n",
    "center1 = [265, 265]\n",
    "center2 = [455, 265]\n",
    "# line_fl = [1.4, 95, 0.623, 330]\n",
    "# line_bl = [-0.509, 697.2, -1.566, 1197.52, ]\n",
    "# line_br = [ 0.519, 576.32,1.481, 133.68]\n",
    "# line_fr = [-1.51, 1200, -0.525, 950]\n",
    "\n",
    "line_fl = [1.5692,40,0.5965,324]\n",
    "line_fr = [-1.7231,1237.2,-0.6044,771.96]\n",
    "line_bl = [-0.6173,926,-1.7561,1253.5]\n",
    "line_br = [0.5914, 501.38, 1.5403,100.05]\n",
    "length1 = 265\n",
    "length2 = 455"
   ]
  },
  {
   "cell_type": "code",
   "execution_count": 3,
   "metadata": {
    "collapsed": true
   },
   "outputs": [],
   "source": [
    "frame_f = imageio.imread(\"front_undistort.jpg\")\n",
    "frame_b = imageio.imread(\"back_undistort.jpg\")\n",
    "frame_l = imageio.imread(\"left_undistort.jpg\")\n",
    "frame_r = imageio.imread(\"right_undistort.jpg\")\n",
    "im = Image.fromarray(frame_r)"
   ]
  },
  {
   "cell_type": "code",
   "execution_count": 4,
   "metadata": {
    "collapsed": true
   },
   "outputs": [],
   "source": [
    "####forward\n",
    "H_f = np.array([ [7.16484249e-001, -1.21329653e+000, 3.95333954e+002 ],\n",
    "    [6.18596748e-002, -1.09690875e-001, 1.50242676e+002 ],\n",
    "              [2.14985557e-005, -1.84673560e-003, 1]])\n",
    "####back\n",
    "H_b = np.array([ [ 5.67742646e-001, -9.36438203e-001, 4.62838440e+002 ],\n",
    "    [4.23971266e-002, -4.45890613e-002, -9.08954544e+001  ],\n",
    "              [5.94135827e-006, -1.42084842e-003, 1]])\n",
    "\n",
    "#####left\n",
    "H_l= np.array([ [ -1.82098770e+000, -1.05679226e+000, 1.32148901e+003 ],\n",
    "    [-9.12221596e-002, -6.53561205e-002, 2.80831299e+002 ],\n",
    "              [-2.73178820e-003, 3.40395927e-005, 1]])\n",
    "####right \n",
    "H_r = np.array([ [-1.94364822e+000, -1.13981271e+000, 1.39862231e+003 ],\n",
    "    [-1.12904012e-001, -7.77252018e-002, -1.34969070e+002 ],\n",
    "              [-2.94386805e-003, 3.57765421e-005, 1]])"
   ]
  },
  {
   "cell_type": "code",
   "execution_count": 5,
   "metadata": {
    "collapsed": true
   },
   "outputs": [],
   "source": [
    "f_l_max_v = 465\n",
    "f_l_max_u = 265\n",
    "f_l_min_v = 0\n",
    "f_l_min_u = 0\n",
    "b_l_max_v = 1280\n",
    "b_l_max_u = 265\n",
    "b_l_min_v = 815\n",
    "b_l_min_u = 0\n",
    "f_r_max_v = 465\n",
    "f_r_max_u = 720\n",
    "f_r_min_v = 0\n",
    "f_r_min_u = 455\n",
    "b_r_max_v = 1280\n",
    "b_r_max_u = 720\n",
    "b_r_min_v = 815\n",
    "b_r_min_u = 455\n",
    "f_min_v = 0\n",
    "f_max_v = 465\n",
    "f_min_u = 0\n",
    "f_max_u = 720\n",
    "b_min_v = 815\n",
    "b_max_v = 1280\n",
    "b_min_u = 0\n",
    "b_max_u = 720\n",
    "l_min_v = 0\n",
    "l_max_v = 1280\n",
    "l_min_u = 0\n",
    "l_max_u = 265\n",
    "r_min_v = 0\n",
    "r_max_v = 1280\n",
    "r_min_u = 455\n",
    "r_max_u = 720"
   ]
  },
  {
   "cell_type": "code",
   "execution_count": 6,
   "metadata": {
    "collapsed": true
   },
   "outputs": [],
   "source": [
    "def get_rate_1(center1, x, y):\n",
    "    rate1 = abs(center1[0] - x) / center1[1]\n",
    "    rate2 =  1 - rate1\n",
    "    cross_weight = (rate1, rate2)\n",
    "    return cross_weight"
   ]
  },
  {
   "cell_type": "code",
   "execution_count": 7,
   "metadata": {
    "collapsed": true
   },
   "outputs": [],
   "source": [
    "def get_rate(center1, center2, x, y):\n",
    "    dis1 = np.sqrt(pow(center1[0]-x,2)+pow(center1[1]-y,2))\n",
    "    dis2 = np.sqrt(pow(center2[0]-x,2)+pow(center2[1]-y,2))\n",
    "    rate1 = dis1 / (dis1 + dis2)\n",
    "    rate2 = dis2 / (dis1 + dis2)\n",
    "    cross_weight = (rate1, rate2)\n",
    "    return cross_weight"
   ]
  },
  {
   "cell_type": "code",
   "execution_count": 8,
   "metadata": {
    "collapsed": true
   },
   "outputs": [],
   "source": [
    "def get_gray_level_four( x, y, weight):\n",
    "    z = np.array([0,0,0,0])\n",
    "    w = np.array([weight[1],weight[2],weight[3],weight[4]])\n",
    "    gray_levels = []\n",
    "    if (w==z).all():\n",
    "        gray_levels = [0,0,0]\n",
    "    else:\n",
    "        if weight[0] == 0:\n",
    "            frame = frame_f\n",
    "        if weight[0] == 1:\n",
    "            frame = frame_l\n",
    "        if weight[0] == 2:\n",
    "            frame = frame_b\n",
    "        if weight[0] == 3:\n",
    "            frame = frame_r\n",
    "        w = w.reshape(2,2)\n",
    "        for i in range(0,3):\n",
    "            f = frame[int(x):int(x)+2, int(y):int(y)+2,i]\n",
    "            gray_level = np.sum(np.multiply(w,f))\n",
    "            gray_levels.append(gray_level)\n",
    "    return np.array(gray_levels)"
   ]
  },
  {
   "cell_type": "code",
   "execution_count": 9,
   "metadata": {
    "collapsed": true
   },
   "outputs": [],
   "source": [
    "def get_cross_weight_four(frame, in_x, in_y, rate,num):\n",
    "    intSx, intSy = int(in_x), int(in_y)\n",
    "    frame_width, frame_height = frame.shape[0], frame.shape[1]\n",
    "    if 0 <= intSx  < frame_width - 2 and 0 <= intSy < frame_height - 2:\n",
    "        x1, x2 = intSx, intSx + 1\n",
    "        y1, y2 = intSy, intSy + 1\n",
    "        a11 = (x2- in_x)*(y2 - in_y)*rate\n",
    "        a12 = (x2 - in_x)*(in_y - y1)*rate\n",
    "        a21 = (in_x - x1)*(y2 - in_y)*rate\n",
    "        a22 = (in_x - x1)*(in_y - y1)*rate\n",
    "        weight = (num,a11,a12,a21,a22)\n",
    "    else:\n",
    "        weight = (num,1,0,0,0)\n",
    "    return weight"
   ]
  },
  {
   "cell_type": "code",
   "execution_count": 10,
   "metadata": {
    "collapsed": true
   },
   "outputs": [],
   "source": [
    "def remap_four(weights, out_put_pxiels, in_put_pxiels):\n",
    "    out_put_img = np.zeros(( 1280,720, frame_f.shape[2]), dtype=frame_f.dtype)\n",
    "    for weight, out_put, in_put in zip(weights, out_put_pxiels, in_put_pxiels):\n",
    "        out_x, out_y = out_put[0], out_put[1]\n",
    "#         print (in_put)\n",
    "        in_x, in_y = in_put[0], in_put[1]\n",
    "        out_put_img[out_x, out_y] =out_put_img[out_x, out_y] + get_gray_level_four( in_x, in_y, weight)\n",
    "    return out_put_img  "
   ]
  },
  {
   "cell_type": "code",
   "execution_count": 11,
   "metadata": {
    "collapsed": true
   },
   "outputs": [],
   "source": [
    "def get_cross_trans_four(frame,H, min_u, max_u, min_v, max_v, length1, length2,\n",
    "                            para1, para2,center0, center1, center2, num,rate_num):\n",
    "    weights = []\n",
    "    out_put_pxiels = []\n",
    "    in_put_pxiels = []\n",
    "    for u in range(min_u,max_u):\n",
    "        range1 = para1[0] * u + para1[1]\n",
    "        range2 = para1[2] * u + para1[3]\n",
    "        range3 = para2[0] * u + para2[1]\n",
    "        range4 = para2[2] * u + para2[3]\n",
    "        for v in range(min_v, max_v):\n",
    "            if  range1 <= v <= range2 and u <= 260:\n",
    "                rate = get_rate(center0, center1, u, v)[0]\n",
    "#                 rate = get_rate_1(center1, u, v)[rate_num]\n",
    "            elif  range3 <= v <= range4 and u >= 448:\n",
    "                rate = get_rate(center0, center2, u, v)[0]        \n",
    "#                 rate = get_rate_1(center2, u, v)[rate_num]\n",
    "            else:\n",
    "                rate = 1\n",
    "            out_put = np.array([u,v,1])\n",
    "            in_put = np.dot(H,out_put)\n",
    "            frame_x, frame_y = in_put[1] / in_put[2], in_put[0] / in_put[2]\n",
    "            if 0 <= round(frame_x) < frame.shape[0] and 0 <= round(frame_y) < frame.shape[1]:\n",
    "                weight = get_cross_weight_four(frame, frame_x, frame_y, rate,num)\n",
    "            else:\n",
    "                weight = (num,0,0,0,0)\n",
    "            weights.append(weight)\n",
    "            out_put_pxiel = (v,u)\n",
    "            out_put_pxiels.append(out_put_pxiel)\n",
    "            in_put_pxiel = (frame_x, frame_y)\n",
    "            in_put_pxiels.append(in_put_pxiel)\n",
    "    return weights, out_put_pxiels, in_put_pxiels"
   ]
  },
  {
   "cell_type": "code",
   "execution_count": 12,
   "metadata": {
    "collapsed": true
   },
   "outputs": [],
   "source": [
    "weights_f1, out_put_pxiels_f1, in_put_pxiels_f1 = get_cross_trans_four(frame_f,H_f, f_min_u, f_max_u,f_min_v, f_max_v,length1, length2, line_fl, line_fr, centerf, centerl,centerr,0,0)\n",
    "out_put_img_f1 = remap_four(weights_f1, out_put_pxiels_f1, in_put_pxiels_f1)\n",
    "bird = Image.fromarray(out_put_img_f1)\n",
    "bird.show()\n",
    "bird.save(\"birdf.jpg\") "
   ]
  },
  {
   "cell_type": "code",
   "execution_count": 13,
   "metadata": {
    "collapsed": true
   },
   "outputs": [],
   "source": [
    "weights_b1, out_put_pxiels_b1, in_put_pxiels_b1 = get_cross_trans_four(frame_b,H_b, b_min_u, b_max_u,b_min_v, b_max_v,length1, length2, line_bl, line_br, centerb, centerl,centerr, 2,0)\n",
    "out_put_img_b1 = remap_four(weights_b1, out_put_pxiels_b1, in_put_pxiels_b1)\n",
    "bird = Image.fromarray(out_put_img_b1)\n",
    "bird.show()\n",
    "bird.save(\"birdb.jpg\") "
   ]
  },
  {
   "cell_type": "code",
   "execution_count": 14,
   "metadata": {
    "collapsed": true
   },
   "outputs": [],
   "source": [
    "def get_cross_trans_four1(frame,H, min_u, max_u, min_v, max_v, length1, length2,\n",
    "                            para1, para2, center0,center1, center2, num,rate_num):\n",
    "    weights = []\n",
    "    out_put_pxiels = []\n",
    "    in_put_pxiels = []\n",
    "    for u in range(min_u,max_u):\n",
    "        range1 = para1[0] * (u) + para1[1]\n",
    "        range2 = para1[2] * (u) + para1[3]\n",
    "        range3 = para2[0] * (u) + para2[1] \n",
    "        range4 = para2[2] * (u) + para2[3] \n",
    "        for v in range(min_v, max_v):\n",
    "            if  range1 <= v <= range2 and v <= 465:\n",
    "                rate = get_rate(center0, center1, u, v)[0]\n",
    "#                 rate = get_rate_1(center1, u, v)[rate_num]\n",
    "            elif  range3 <= v <= range4 and v >= 815:\n",
    "                rate = get_rate(center0, center1, u, v)[0]\n",
    "#                 rate = get_rate_1(center2, u, v)[rate_num]\n",
    "            else:\n",
    "                rate = 1\n",
    "            out_put = np.array([u,v,1])\n",
    "            in_put = np.dot(H,out_put)\n",
    "            frame_x, frame_y = in_put[1] / in_put[2], in_put[0] / in_put[2]\n",
    "            if 0 <= round(frame_x) < frame.shape[0] and 0 <= round(frame_y) < frame.shape[1]:\n",
    "                weight = get_cross_weight_four(frame, frame_x, frame_y, rate,num)\n",
    "            else:\n",
    "                weight = (num,0,0,0,0)\n",
    "            weights.append(weight)\n",
    "            out_put_pxiel = (v,u)\n",
    "            out_put_pxiels.append(out_put_pxiel)\n",
    "            in_put_pxiel = (frame_x, frame_y)\n",
    "            in_put_pxiels.append(in_put_pxiel)\n",
    "    return weights, out_put_pxiels, in_put_pxiels"
   ]
  },
  {
   "cell_type": "code",
   "execution_count": 15,
   "metadata": {
    "collapsed": true
   },
   "outputs": [],
   "source": [
    "weights_l1, out_put_pxiels_l1, in_put_pxiels_l1 = get_cross_trans_four1(frame_l,H_l, l_min_u, l_max_u,l_min_v, l_max_v, length1, length2, line_fl, line_bl, centerl, centerf, centerb,1,1)\n",
    "out_put_img_l1 = remap_four(weights_l1, out_put_pxiels_l1, in_put_pxiels_l1)\n",
    "bird = Image.fromarray(out_put_img_l1)\n",
    "bird.show()"
   ]
  },
  {
   "cell_type": "code",
   "execution_count": 16,
   "metadata": {
    "collapsed": true
   },
   "outputs": [],
   "source": [
    "weights_r1, out_put_pxiels_r1, in_put_pxiels_r1 = get_cross_trans_four1(frame_r,H_r, r_min_u, r_max_u,r_min_v, r_max_v,length1, length2, line_fr, line_br,centerr, centerf, centerb,3,1)\n",
    "out_put_img_r1 = remap_four(weights_r1, out_put_pxiels_r1, in_put_pxiels_r1)\n",
    "bird = Image.fromarray(out_put_img_r1)\n",
    "bird.show()"
   ]
  },
  {
   "cell_type": "code",
   "execution_count": 17,
   "metadata": {
    "collapsed": true
   },
   "outputs": [],
   "source": [
    "weights = weights_f1 + weights_l1 + weights_b1 + weights_r1\n",
    "in_put_pxiels = in_put_pxiels_f1 + in_put_pxiels_l1 + in_put_pxiels_b1 + in_put_pxiels_r1\n",
    "out_put_pxiels = out_put_pxiels_f1 + out_put_pxiels_l1 + out_put_pxiels_b1 + out_put_pxiels_r1\n"
   ]
  },
  {
   "cell_type": "code",
   "execution_count": 18,
   "metadata": {
    "collapsed": true
   },
   "outputs": [],
   "source": [
    "out_put_img_1 = out_put_img_l1 + out_put_img_f1 + out_put_img_r1 + out_put_img_b1\n",
    "bird = Image.fromarray(out_put_img_1)\n",
    "bird.show()"
   ]
  },
  {
   "cell_type": "code",
   "execution_count": null,
   "metadata": {
    "collapsed": true
   },
   "outputs": [],
   "source": [
    "import time \n",
    "start = time.time()\n",
    "out_put_img = remap_four(weights, out_put_pxiels, in_put_pxiels)\n",
    "end = time.time()\n",
    "print (end - start)\n",
    "bird = Image.fromarray(out_put_img)\n",
    "bird.show()"
   ]
  },
  {
   "cell_type": "code",
   "execution_count": 15,
   "metadata": {
    "collapsed": true
   },
   "outputs": [],
   "source": [
    "def get_cross_trans_four2(frame,H, min_u, max_u, min_v, max_v, length1, length2,\n",
    "                            para1, para2, center1, center2, num,rate_num):\n",
    "    weights = []\n",
    "    out_put_pxiels = []\n",
    "    in_put_pxiels = []\n",
    "    for u in range(min_u,max_u):\n",
    "        range1 = para1[0] * (u) + para1[1]\n",
    "        range2 = para1[2] * (u) + para1[3] \n",
    "        range3 = para2[0] * (u) + para2[1] \n",
    "        range4 = para2[2] * (u) + para2[3]\n",
    "#         print (range1, range2, range3, range4)\n",
    "        for v in range(min_v, max_v):\n",
    "            if  range2 <= v <= range1 :\n",
    "                rate = get_rate_1(center1, u, v)[rate_num]\n",
    "            elif  range3 <= v <= range4 :\n",
    "                rate = get_rate_1(center2, u, v)[rate_num]\n",
    "            else:\n",
    "                rate = 1\n",
    "            out_put = np.array([u,v,1])\n",
    "            in_put = np.dot(H,out_put)\n",
    "            frame_x, frame_y = in_put[1] / in_put[2], in_put[0] / in_put[2]\n",
    "            if 0 <= round(frame_x) < frame.shape[0] and 0 <= round(frame_y) < frame.shape[1]:\n",
    "                weight = get_cross_weight_four(frame, frame_x, frame_y, rate,num)\n",
    "            else:\n",
    "                weight = (num,0,0,0,0)\n",
    "            weights.append(weight)\n",
    "            out_put_pxiel = (v,u)\n",
    "            out_put_pxiels.append(out_put_pxiel)\n",
    "            in_put_pxiel = (frame_x, frame_y)\n",
    "            in_put_pxiels.append(in_put_pxiel)\n",
    "    return weights, out_put_pxiels, in_put_pxiels"
   ]
  },
  {
   "cell_type": "code",
   "execution_count": 33,
   "metadata": {},
   "outputs": [
    {
     "name": "stdout",
     "output_type": "stream",
     "text": [
      "114.30999999999995 572.525\n"
     ]
    }
   ],
   "source": [
    "range1 = line_fr[0] * (719) + line_fr[1]\n",
    "range2 = line_fr[2] * (719) + line_fr[3] \n",
    "# range3 = para2[0] * (u) + para2[1] \n",
    "# range4 = para2[2] * (u) + para2[3]\n",
    "print (range1, range2)"
   ]
  }
 ],
 "metadata": {
  "kernelspec": {
   "display_name": "Python 3",
   "language": "python",
   "name": "python3"
  },
  "language_info": {
   "codemirror_mode": {
    "name": "ipython",
    "version": 3
   },
   "file_extension": ".py",
   "mimetype": "text/x-python",
   "name": "python",
   "nbconvert_exporter": "python",
   "pygments_lexer": "ipython3",
   "version": "3.6.3"
  }
 },
 "nbformat": 4,
 "nbformat_minor": 2
}
